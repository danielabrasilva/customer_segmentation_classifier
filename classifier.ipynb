{
 "cells": [
  {
   "cell_type": "code",
   "execution_count": 2,
   "metadata": {},
   "outputs": [],
   "source": [
    "import numpy as np\n",
    "import pandas as pd\n",
    "from sklearn.linear_model import LogisticRegression\n",
    "from sklearn.cluster import KMeans\n",
    "from sklearn.metrics import classification_report\n",
    "from sklearn.svm import SVC\n",
    "from sklearn.model_selection import train_test_split\n",
    "from sklearn.preprocessing import MinMaxScaler, StandardScaler, RobustScaler\n",
    "import process_data as proc\n",
    "\n",
    "# Load training dataset\n",
    "mailout_train = pd.read_csv('data/Udacity_MAILOUT_052018_TRAIN.csv', sep=';', dtype={'CAMEO_DEUG_2015': str, 'CAMEO_INTL_2015':str}, index_col='LNR')\n",
    "df_clustered = pd.read_csv('clustered_df.csv', index_col='LNR')"
   ]
  },
  {
   "cell_type": "code",
   "execution_count": 3,
   "metadata": {},
   "outputs": [],
   "source": [
    "# without \"clusters\" and plus 'RESPONSE'\n",
    "cols = np.intersect1d(df_clustered.columns, mailout_train.columns)\n",
    "cols = np.append(cols,'RESPONSE')"
   ]
  },
  {
   "cell_type": "code",
   "execution_count": 4,
   "metadata": {},
   "outputs": [],
   "source": [
    "# Prepare data\n",
    "X_new = mailout_train[cols]"
   ]
  },
  {
   "cell_type": "code",
   "execution_count": 5,
   "metadata": {},
   "outputs": [],
   "source": [
    "# Cleaning Data\n",
    "clean_X = proc.drop_na_rows(df=X_new, na_perct=0.7)\n",
    "clean_X = clean_X.reset_index()\n",
    "enc_X, cols_with_missing = proc.encode_nans(clean_X, thresh=0)\n",
    "imputed_X = proc.impute_values(enc_X, cols_with_missing)\n",
    "imputed_X['OST_WEST_KZ'] = pd.get_dummies(imputed_X['OST_WEST_KZ'], prefix='OST_WEST_KZ', drop_first=True)\n"
   ]
  },
  {
   "cell_type": "code",
   "execution_count": 6,
   "metadata": {},
   "outputs": [
    {
     "data": {
      "text/plain": [
       "array(['cluster'], dtype=object)"
      ]
     },
     "execution_count": 6,
     "metadata": {},
     "output_type": "execute_result"
    }
   ],
   "source": [
    "len(df_clustered.columns)\n",
    "#len(enc_X.columns)\n",
    "len(imputed_X.columns)\n",
    "#len(np.intersect1d(imputed_X.columns, df_clustered.columns))\n",
    "#\n",
    "np.setdiff1d(df_clustered.columns, imputed_X.columns)"
   ]
  },
  {
   "cell_type": "code",
   "execution_count": 7,
   "metadata": {},
   "outputs": [],
   "source": [
    "X = imputed_X.loc[:,np.intersect1d(df_clustered.columns, imputed_X.columns)]"
   ]
  },
  {
   "cell_type": "code",
   "execution_count": 8,
   "metadata": {},
   "outputs": [],
   "source": [
    "X = X[df_clustered.columns.values[:-1]]\n",
    "\n",
    "df_clustered = df_clustered.drop(columns='cluster')"
   ]
  },
  {
   "cell_type": "code",
   "execution_count": 9,
   "metadata": {},
   "outputs": [
    {
     "data": {
      "text/html": [
       "<div>\n",
       "<style scoped>\n",
       "    .dataframe tbody tr th:only-of-type {\n",
       "        vertical-align: middle;\n",
       "    }\n",
       "\n",
       "    .dataframe tbody tr th {\n",
       "        vertical-align: top;\n",
       "    }\n",
       "\n",
       "    .dataframe thead th {\n",
       "        text-align: right;\n",
       "    }\n",
       "</style>\n",
       "<table border=\"1\" class=\"dataframe\">\n",
       "  <thead>\n",
       "    <tr style=\"text-align: right;\">\n",
       "      <th></th>\n",
       "      <th>AGER_TYP</th>\n",
       "      <th>AKT_DAT_KL</th>\n",
       "      <th>ALTERSKATEGORIE_FEIN_was_missing</th>\n",
       "      <th>ALTERSKATEGORIE_GROB</th>\n",
       "      <th>ALTER_HH</th>\n",
       "      <th>ANREDE_KZ</th>\n",
       "      <th>ANZ_HAUSHALTE_AKTIV</th>\n",
       "      <th>ANZ_KINDER</th>\n",
       "      <th>ANZ_PERSONEN</th>\n",
       "      <th>ANZ_STATISTISCHE_HAUSHALTE</th>\n",
       "      <th>...</th>\n",
       "      <th>HH_DELTA_FLAG</th>\n",
       "      <th>W_KEIT_KIND_HH</th>\n",
       "      <th>D19_KONSUMTYP</th>\n",
       "      <th>D19_LOTTO</th>\n",
       "      <th>D19_GESAMT_ONLINE_QUOTE_12</th>\n",
       "      <th>D19_VERSAND_ONLINE_QUOTE_12</th>\n",
       "      <th>D19_SOZIALES</th>\n",
       "      <th>ALTERSKATEGORIE_FEIN</th>\n",
       "      <th>KK_KUNDENTYP</th>\n",
       "      <th>EXTSEL992</th>\n",
       "    </tr>\n",
       "    <tr>\n",
       "      <th>LNR</th>\n",
       "      <th></th>\n",
       "      <th></th>\n",
       "      <th></th>\n",
       "      <th></th>\n",
       "      <th></th>\n",
       "      <th></th>\n",
       "      <th></th>\n",
       "      <th></th>\n",
       "      <th></th>\n",
       "      <th></th>\n",
       "      <th></th>\n",
       "      <th></th>\n",
       "      <th></th>\n",
       "      <th></th>\n",
       "      <th></th>\n",
       "      <th></th>\n",
       "      <th></th>\n",
       "      <th></th>\n",
       "      <th></th>\n",
       "      <th></th>\n",
       "      <th></th>\n",
       "    </tr>\n",
       "  </thead>\n",
       "  <tbody>\n",
       "    <tr>\n",
       "      <th>910220</th>\n",
       "      <td>-1</td>\n",
       "      <td>9</td>\n",
       "      <td>0</td>\n",
       "      <td>1</td>\n",
       "      <td>0</td>\n",
       "      <td>2</td>\n",
       "      <td>11</td>\n",
       "      <td>0</td>\n",
       "      <td>2</td>\n",
       "      <td>12</td>\n",
       "      <td>...</td>\n",
       "      <td>0</td>\n",
       "      <td>3</td>\n",
       "      <td>9</td>\n",
       "      <td>0</td>\n",
       "      <td>0</td>\n",
       "      <td>0</td>\n",
       "      <td>0</td>\n",
       "      <td>21</td>\n",
       "      <td>3</td>\n",
       "      <td>56</td>\n",
       "    </tr>\n",
       "    <tr>\n",
       "      <th>910225</th>\n",
       "      <td>-1</td>\n",
       "      <td>9</td>\n",
       "      <td>0</td>\n",
       "      <td>3</td>\n",
       "      <td>17</td>\n",
       "      <td>2</td>\n",
       "      <td>10</td>\n",
       "      <td>0</td>\n",
       "      <td>1</td>\n",
       "      <td>7</td>\n",
       "      <td>...</td>\n",
       "      <td>0</td>\n",
       "      <td>3</td>\n",
       "      <td>9</td>\n",
       "      <td>0</td>\n",
       "      <td>0</td>\n",
       "      <td>0</td>\n",
       "      <td>0</td>\n",
       "      <td>17</td>\n",
       "      <td>3</td>\n",
       "      <td>14</td>\n",
       "    </tr>\n",
       "    <tr>\n",
       "      <th>910226</th>\n",
       "      <td>2</td>\n",
       "      <td>1</td>\n",
       "      <td>0</td>\n",
       "      <td>4</td>\n",
       "      <td>13</td>\n",
       "      <td>2</td>\n",
       "      <td>1</td>\n",
       "      <td>0</td>\n",
       "      <td>0</td>\n",
       "      <td>2</td>\n",
       "      <td>...</td>\n",
       "      <td>0</td>\n",
       "      <td>6</td>\n",
       "      <td>9</td>\n",
       "      <td>0</td>\n",
       "      <td>0</td>\n",
       "      <td>0</td>\n",
       "      <td>0</td>\n",
       "      <td>13</td>\n",
       "      <td>3</td>\n",
       "      <td>31</td>\n",
       "    </tr>\n",
       "    <tr>\n",
       "      <th>910241</th>\n",
       "      <td>-1</td>\n",
       "      <td>1</td>\n",
       "      <td>0</td>\n",
       "      <td>3</td>\n",
       "      <td>20</td>\n",
       "      <td>1</td>\n",
       "      <td>3</td>\n",
       "      <td>0</td>\n",
       "      <td>4</td>\n",
       "      <td>3</td>\n",
       "      <td>...</td>\n",
       "      <td>0</td>\n",
       "      <td>2</td>\n",
       "      <td>1</td>\n",
       "      <td>0</td>\n",
       "      <td>10</td>\n",
       "      <td>10</td>\n",
       "      <td>0</td>\n",
       "      <td>14</td>\n",
       "      <td>1</td>\n",
       "      <td>56</td>\n",
       "    </tr>\n",
       "    <tr>\n",
       "      <th>910244</th>\n",
       "      <td>3</td>\n",
       "      <td>1</td>\n",
       "      <td>0</td>\n",
       "      <td>1</td>\n",
       "      <td>10</td>\n",
       "      <td>2</td>\n",
       "      <td>5</td>\n",
       "      <td>0</td>\n",
       "      <td>1</td>\n",
       "      <td>2</td>\n",
       "      <td>...</td>\n",
       "      <td>0</td>\n",
       "      <td>6</td>\n",
       "      <td>4</td>\n",
       "      <td>0</td>\n",
       "      <td>10</td>\n",
       "      <td>0</td>\n",
       "      <td>4</td>\n",
       "      <td>10</td>\n",
       "      <td>3</td>\n",
       "      <td>20</td>\n",
       "    </tr>\n",
       "  </tbody>\n",
       "</table>\n",
       "<p>5 rows × 335 columns</p>\n",
       "</div>"
      ],
      "text/plain": [
       "        AGER_TYP  AKT_DAT_KL  ALTERSKATEGORIE_FEIN_was_missing  \\\n",
       "LNR                                                              \n",
       "910220        -1           9                                 0   \n",
       "910225        -1           9                                 0   \n",
       "910226         2           1                                 0   \n",
       "910241        -1           1                                 0   \n",
       "910244         3           1                                 0   \n",
       "\n",
       "        ALTERSKATEGORIE_GROB  ALTER_HH  ANREDE_KZ  ANZ_HAUSHALTE_AKTIV  \\\n",
       "LNR                                                                      \n",
       "910220                     1         0          2                   11   \n",
       "910225                     3        17          2                   10   \n",
       "910226                     4        13          2                    1   \n",
       "910241                     3        20          1                    3   \n",
       "910244                     1        10          2                    5   \n",
       "\n",
       "        ANZ_KINDER  ANZ_PERSONEN  ANZ_STATISTISCHE_HAUSHALTE  ...  \\\n",
       "LNR                                                           ...   \n",
       "910220           0             2                          12  ...   \n",
       "910225           0             1                           7  ...   \n",
       "910226           0             0                           2  ...   \n",
       "910241           0             4                           3  ...   \n",
       "910244           0             1                           2  ...   \n",
       "\n",
       "        HH_DELTA_FLAG  W_KEIT_KIND_HH  D19_KONSUMTYP  D19_LOTTO  \\\n",
       "LNR                                                               \n",
       "910220              0               3              9          0   \n",
       "910225              0               3              9          0   \n",
       "910226              0               6              9          0   \n",
       "910241              0               2              1          0   \n",
       "910244              0               6              4          0   \n",
       "\n",
       "        D19_GESAMT_ONLINE_QUOTE_12  D19_VERSAND_ONLINE_QUOTE_12  D19_SOZIALES  \\\n",
       "LNR                                                                             \n",
       "910220                           0                            0             0   \n",
       "910225                           0                            0             0   \n",
       "910226                           0                            0             0   \n",
       "910241                          10                           10             0   \n",
       "910244                          10                            0             4   \n",
       "\n",
       "        ALTERSKATEGORIE_FEIN  KK_KUNDENTYP  EXTSEL992  \n",
       "LNR                                                    \n",
       "910220                    21             3         56  \n",
       "910225                    17             3         14  \n",
       "910226                    13             3         31  \n",
       "910241                    14             1         56  \n",
       "910244                    10             3         20  \n",
       "\n",
       "[5 rows x 335 columns]"
      ]
     },
     "execution_count": 9,
     "metadata": {},
     "output_type": "execute_result"
    }
   ],
   "source": [
    "df_clustered.head()"
   ]
  },
  {
   "cell_type": "code",
   "execution_count": 10,
   "metadata": {},
   "outputs": [
    {
     "data": {
      "text/html": [
       "<div>\n",
       "<style scoped>\n",
       "    .dataframe tbody tr th:only-of-type {\n",
       "        vertical-align: middle;\n",
       "    }\n",
       "\n",
       "    .dataframe tbody tr th {\n",
       "        vertical-align: top;\n",
       "    }\n",
       "\n",
       "    .dataframe thead th {\n",
       "        text-align: right;\n",
       "    }\n",
       "</style>\n",
       "<table border=\"1\" class=\"dataframe\">\n",
       "  <thead>\n",
       "    <tr style=\"text-align: right;\">\n",
       "      <th></th>\n",
       "      <th>AGER_TYP</th>\n",
       "      <th>AKT_DAT_KL</th>\n",
       "      <th>ALTERSKATEGORIE_FEIN_was_missing</th>\n",
       "      <th>ALTERSKATEGORIE_GROB</th>\n",
       "      <th>ALTER_HH</th>\n",
       "      <th>ANREDE_KZ</th>\n",
       "      <th>ANZ_HAUSHALTE_AKTIV</th>\n",
       "      <th>ANZ_KINDER</th>\n",
       "      <th>ANZ_PERSONEN</th>\n",
       "      <th>ANZ_STATISTISCHE_HAUSHALTE</th>\n",
       "      <th>...</th>\n",
       "      <th>HH_DELTA_FLAG</th>\n",
       "      <th>W_KEIT_KIND_HH</th>\n",
       "      <th>D19_KONSUMTYP</th>\n",
       "      <th>D19_LOTTO</th>\n",
       "      <th>D19_GESAMT_ONLINE_QUOTE_12</th>\n",
       "      <th>D19_VERSAND_ONLINE_QUOTE_12</th>\n",
       "      <th>D19_SOZIALES</th>\n",
       "      <th>ALTERSKATEGORIE_FEIN</th>\n",
       "      <th>KK_KUNDENTYP</th>\n",
       "      <th>EXTSEL992</th>\n",
       "    </tr>\n",
       "  </thead>\n",
       "  <tbody>\n",
       "    <tr>\n",
       "      <th>0</th>\n",
       "      <td>2</td>\n",
       "      <td>1.0</td>\n",
       "      <td>False</td>\n",
       "      <td>4</td>\n",
       "      <td>8.0</td>\n",
       "      <td>2</td>\n",
       "      <td>15.0</td>\n",
       "      <td>0.0</td>\n",
       "      <td>1.0</td>\n",
       "      <td>13.0</td>\n",
       "      <td>...</td>\n",
       "      <td>0.0</td>\n",
       "      <td>6.0</td>\n",
       "      <td>3.0</td>\n",
       "      <td>0.0</td>\n",
       "      <td>0.0</td>\n",
       "      <td>0.0</td>\n",
       "      <td>1.0</td>\n",
       "      <td>8.0</td>\n",
       "      <td>3.0</td>\n",
       "      <td>47.0</td>\n",
       "    </tr>\n",
       "    <tr>\n",
       "      <th>1</th>\n",
       "      <td>1</td>\n",
       "      <td>4.0</td>\n",
       "      <td>False</td>\n",
       "      <td>3</td>\n",
       "      <td>13.0</td>\n",
       "      <td>2</td>\n",
       "      <td>1.0</td>\n",
       "      <td>0.0</td>\n",
       "      <td>2.0</td>\n",
       "      <td>1.0</td>\n",
       "      <td>...</td>\n",
       "      <td>0.0</td>\n",
       "      <td>4.0</td>\n",
       "      <td>1.0</td>\n",
       "      <td>0.0</td>\n",
       "      <td>0.0</td>\n",
       "      <td>0.0</td>\n",
       "      <td>5.0</td>\n",
       "      <td>13.0</td>\n",
       "      <td>2.0</td>\n",
       "      <td>56.0</td>\n",
       "    </tr>\n",
       "    <tr>\n",
       "      <th>2</th>\n",
       "      <td>1</td>\n",
       "      <td>1.0</td>\n",
       "      <td>False</td>\n",
       "      <td>4</td>\n",
       "      <td>9.0</td>\n",
       "      <td>1</td>\n",
       "      <td>0.0</td>\n",
       "      <td>0.0</td>\n",
       "      <td>0.0</td>\n",
       "      <td>1.0</td>\n",
       "      <td>...</td>\n",
       "      <td>0.0</td>\n",
       "      <td>6.0</td>\n",
       "      <td>2.0</td>\n",
       "      <td>0.0</td>\n",
       "      <td>0.0</td>\n",
       "      <td>0.0</td>\n",
       "      <td>2.0</td>\n",
       "      <td>7.0</td>\n",
       "      <td>3.0</td>\n",
       "      <td>36.0</td>\n",
       "    </tr>\n",
       "    <tr>\n",
       "      <th>3</th>\n",
       "      <td>2</td>\n",
       "      <td>1.0</td>\n",
       "      <td>False</td>\n",
       "      <td>4</td>\n",
       "      <td>6.0</td>\n",
       "      <td>2</td>\n",
       "      <td>4.0</td>\n",
       "      <td>0.0</td>\n",
       "      <td>2.0</td>\n",
       "      <td>4.0</td>\n",
       "      <td>...</td>\n",
       "      <td>0.0</td>\n",
       "      <td>6.0</td>\n",
       "      <td>3.0</td>\n",
       "      <td>7.0</td>\n",
       "      <td>0.0</td>\n",
       "      <td>0.0</td>\n",
       "      <td>1.0</td>\n",
       "      <td>6.0</td>\n",
       "      <td>3.0</td>\n",
       "      <td>41.0</td>\n",
       "    </tr>\n",
       "    <tr>\n",
       "      <th>4</th>\n",
       "      <td>2</td>\n",
       "      <td>1.0</td>\n",
       "      <td>False</td>\n",
       "      <td>3</td>\n",
       "      <td>9.0</td>\n",
       "      <td>1</td>\n",
       "      <td>53.0</td>\n",
       "      <td>0.0</td>\n",
       "      <td>1.0</td>\n",
       "      <td>44.0</td>\n",
       "      <td>...</td>\n",
       "      <td>0.0</td>\n",
       "      <td>6.0</td>\n",
       "      <td>2.0</td>\n",
       "      <td>0.0</td>\n",
       "      <td>0.0</td>\n",
       "      <td>0.0</td>\n",
       "      <td>1.0</td>\n",
       "      <td>9.0</td>\n",
       "      <td>3.0</td>\n",
       "      <td>55.0</td>\n",
       "    </tr>\n",
       "  </tbody>\n",
       "</table>\n",
       "<p>5 rows × 335 columns</p>\n",
       "</div>"
      ],
      "text/plain": [
       "   AGER_TYP  AKT_DAT_KL  ALTERSKATEGORIE_FEIN_was_missing  \\\n",
       "0         2         1.0                             False   \n",
       "1         1         4.0                             False   \n",
       "2         1         1.0                             False   \n",
       "3         2         1.0                             False   \n",
       "4         2         1.0                             False   \n",
       "\n",
       "   ALTERSKATEGORIE_GROB  ALTER_HH  ANREDE_KZ  ANZ_HAUSHALTE_AKTIV  ANZ_KINDER  \\\n",
       "0                     4       8.0          2                 15.0         0.0   \n",
       "1                     3      13.0          2                  1.0         0.0   \n",
       "2                     4       9.0          1                  0.0         0.0   \n",
       "3                     4       6.0          2                  4.0         0.0   \n",
       "4                     3       9.0          1                 53.0         0.0   \n",
       "\n",
       "   ANZ_PERSONEN  ANZ_STATISTISCHE_HAUSHALTE  ...  HH_DELTA_FLAG  \\\n",
       "0           1.0                        13.0  ...            0.0   \n",
       "1           2.0                         1.0  ...            0.0   \n",
       "2           0.0                         1.0  ...            0.0   \n",
       "3           2.0                         4.0  ...            0.0   \n",
       "4           1.0                        44.0  ...            0.0   \n",
       "\n",
       "   W_KEIT_KIND_HH  D19_KONSUMTYP  D19_LOTTO  D19_GESAMT_ONLINE_QUOTE_12  \\\n",
       "0             6.0            3.0        0.0                         0.0   \n",
       "1             4.0            1.0        0.0                         0.0   \n",
       "2             6.0            2.0        0.0                         0.0   \n",
       "3             6.0            3.0        7.0                         0.0   \n",
       "4             6.0            2.0        0.0                         0.0   \n",
       "\n",
       "   D19_VERSAND_ONLINE_QUOTE_12  D19_SOZIALES  ALTERSKATEGORIE_FEIN  \\\n",
       "0                          0.0           1.0                   8.0   \n",
       "1                          0.0           5.0                  13.0   \n",
       "2                          0.0           2.0                   7.0   \n",
       "3                          0.0           1.0                   6.0   \n",
       "4                          0.0           1.0                   9.0   \n",
       "\n",
       "   KK_KUNDENTYP  EXTSEL992  \n",
       "0           3.0       47.0  \n",
       "1           2.0       56.0  \n",
       "2           3.0       36.0  \n",
       "3           3.0       41.0  \n",
       "4           3.0       55.0  \n",
       "\n",
       "[5 rows x 335 columns]"
      ]
     },
     "execution_count": 10,
     "metadata": {},
     "output_type": "execute_result"
    }
   ],
   "source": [
    "X.head()"
   ]
  },
  {
   "cell_type": "code",
   "execution_count": 11,
   "metadata": {},
   "outputs": [
    {
     "name": "stdout",
     "output_type": "stream",
     "text": [
      "<class 'pandas.core.frame.DataFrame'>\n",
      "RangeIndex: 35000 entries, 0 to 34999\n",
      "Columns: 335 entries, AGER_TYP to EXTSEL992\n",
      "dtypes: bool(8), float64(253), int64(73), uint8(1)\n",
      "memory usage: 87.4 MB\n"
     ]
    }
   ],
   "source": [
    "X.info()"
   ]
  },
  {
   "cell_type": "code",
   "execution_count": 12,
   "metadata": {},
   "outputs": [
    {
     "name": "stdout",
     "output_type": "stream",
     "text": [
      "Storing clustered data...\n"
     ]
    }
   ],
   "source": [
    "# Clustering\n",
    "\n",
    "# Index dataframe with LNR id\n",
    "X = X.astype(np.int8)\n",
    "\n",
    "# KMeans Clustering\n",
    "kmeans = KMeans(n_clusters=6, random_state=42, max_iter=700)\n",
    "\n",
    "#print(\"Clustering ... \\n\")\n",
    "kmeans.fit(df_clustered)\n",
    "clusters = kmeans.predict(X)\n",
    "X['cluster'] = clusters\n",
    "\n",
    "# Store DataFrame\n",
    "print(\"Storing clustered data...\")\n",
    "X.to_csv('X_class.csv', header=X.columns)"
   ]
  },
  {
   "cell_type": "code",
   "execution_count": 13,
   "metadata": {},
   "outputs": [],
   "source": [
    "#X['cluster'] = clusters\n",
    "#y = X['RESPONSE']\n",
    "X = X.set_index(clean_X['LNR'])\n",
    "y = mailout_train.loc[X.index, 'RESPONSE']"
   ]
  },
  {
   "cell_type": "code",
   "execution_count": 14,
   "metadata": {},
   "outputs": [],
   "source": [
    "# Split dataset\n",
    "X_train, X_test, y_train, y_test = train_test_split(X, y, test_size=0.2, random_state=42)\n"
   ]
  },
  {
   "cell_type": "code",
   "execution_count": 15,
   "metadata": {},
   "outputs": [],
   "source": [
    "# Preprocessing\n",
    "scaler_train = RobustScaler().fit(X_train)\n",
    "#scaler_train = StandardScaler().fit(X_train)\n",
    "#scaler_train = MinMaxScaler().fit(X_train)\n",
    "X_train = scaler_train.transform(X_train)\n",
    "\n",
    "scaler_test = RobustScaler().fit(X_test)\n",
    "#scaler_test = StandardScaler().fit(X_test)\n",
    "#scaler_test = MinMaxScaler().fit(X_test)\n",
    "X_test = scaler_train.transform(X_test)"
   ]
  },
  {
   "cell_type": "code",
   "execution_count": 16,
   "metadata": {},
   "outputs": [
    {
     "data": {
      "text/plain": [
       "XGBClassifier(base_score=0.5, booster='gbtree', colsample_bylevel=1,\n",
       "              colsample_bynode=1, colsample_bytree=1, eval_metric='logloss',\n",
       "              gamma=0, gpu_id=-1, importance_type='gain',\n",
       "              interaction_constraints='', learning_rate=0.5, max_delta_step=0,\n",
       "              max_depth=3, min_child_weight=1, missing=nan,\n",
       "              monotone_constraints='()', n_estimators=200, n_jobs=4,\n",
       "              num_parallel_tree=1, random_state=0, reg_alpha=0.5, reg_lambda=1,\n",
       "              scale_pos_weight=1, subsample=1, tree_method='exact',\n",
       "              use_label_encoder=False, validate_parameters=1, verbosity=None)"
      ]
     },
     "execution_count": 16,
     "metadata": {},
     "output_type": "execute_result"
    }
   ],
   "source": [
    "from xgboost import XGBClassifier\n",
    "\n",
    "#xgb = XGBClassifier(n_estimators=200, learning_rate=0.5, reg_alpha=0.5, max_depth=3,objective='binary:logistic', eval_metric='logloss', use_label_encoder=False)\n",
    "#xgb.fit(X_train, y_train)\n",
    "\n",
    "xgb = XGBClassifier(n_estimators=200, learning_rate=0.5, reg_alpha=0.5, max_depth=3,objective='binary:logistic', eval_metric='logloss', use_label_encoder=False)\n",
    "xgb.fit(X_train, y_train)"
   ]
  },
  {
   "cell_type": "code",
   "execution_count": 17,
   "metadata": {},
   "outputs": [
    {
     "name": "stdout",
     "output_type": "stream",
     "text": [
      "              precision    recall  f1-score   support\n",
      "\n",
      "     class 0       1.00      1.00      1.00     27651\n",
      "     class 1       1.00      1.00      1.00       349\n",
      "\n",
      "    accuracy                           1.00     28000\n",
      "   macro avg       1.00      1.00      1.00     28000\n",
      "weighted avg       1.00      1.00      1.00     28000\n",
      "\n"
     ]
    }
   ],
   "source": [
    "y_pred = xgb.predict(X_train)\n",
    "target_names = ['class 0', 'class 1']\n",
    "print(classification_report(y_train, y_pred, target_names=target_names))"
   ]
  },
  {
   "cell_type": "code",
   "execution_count": 18,
   "metadata": {},
   "outputs": [
    {
     "name": "stdout",
     "output_type": "stream",
     "text": [
      "              precision    recall  f1-score   support\n",
      "\n",
      "     class 0       0.99      1.00      0.99      6914\n",
      "     class 1       0.00      0.00      0.00        86\n",
      "\n",
      "    accuracy                           0.99      7000\n",
      "   macro avg       0.49      0.50      0.50      7000\n",
      "weighted avg       0.98      0.99      0.98      7000\n",
      "\n"
     ]
    }
   ],
   "source": [
    "y_pred = xgb.predict(X_test)\n",
    "print(classification_report(y_test, y_pred, target_names=target_names))"
   ]
  },
  {
   "cell_type": "code",
   "execution_count": 19,
   "metadata": {},
   "outputs": [
    {
     "name": "stdout",
     "output_type": "stream",
     "text": [
      "Xgb: f1=0.000 auc=0.028\n"
     ]
    },
    {
     "data": {
      "image/png": "[encoded data removed]",
      "text/plain": [
       "<Figure size 432x288 with 1 Axes>"
      ]
     },
     "metadata": {
      "needs_background": "light"
     },
     "output_type": "display_data"
    }
   ],
   "source": [
    "from sklearn.metrics import precision_recall_curve\n",
    "from sklearn.metrics import f1_score\n",
    "from sklearn.metrics import auc\n",
    "from matplotlib import pyplot\n",
    "\n",
    "\n",
    "# predict probabilities\n",
    "y_probs = xgb.predict_proba(X_test)\n",
    "# keep probabilities for the positive outcome only\n",
    "y_probs = y_probs[:, 1]\n",
    "\n",
    "# predict class values\n",
    "y_pred = xgb.predict(X_test)\n",
    "\n",
    "xgb_precision, xgb_recall, _ = precision_recall_curve(y_test, y_probs)\n",
    "xgb_f1, xgb_auc = f1_score(y_test, y_pred), auc(xgb_recall, xgb_precision)\n",
    "# summarize scores\n",
    "\n",
    "print('Xgb: f1=%.3f auc=%.3f' % (xgb_f1, xgb_auc))\n",
    "# plot the precision-recall curves\n",
    "no_skill = len(y_test[y_test==1]) / len(y_test)\n",
    "pyplot.plot([0, 1], [no_skill, no_skill], linestyle='--', label='No Skill')\n",
    "pyplot.plot(xgb_recall, xgb_precision, marker='.', label='Xgb')\n",
    "# axis labels\n",
    "pyplot.xlabel('Recall');\n",
    "pyplot.ylabel('Precision');\n",
    "# show the legend\n",
    "pyplot.legend();\n",
    "# show the plot"
   ]
  },
  {
   "cell_type": "code",
   "execution_count": 20,
   "metadata": {},
   "outputs": [
    {
     "name": "stdout",
     "output_type": "stream",
     "text": [
      "No Skill: ROC AUC=0.500\n",
      "XGB: ROC AUC=0.721\n"
     ]
    },
    {
     "data": {
      "image/png": "[encoded data removed]",
      "text/plain": [
       "<Figure size 432x288 with 1 Axes>"
      ]
     },
     "metadata": {
      "needs_background": "light"
     },
     "output_type": "display_data"
    }
   ],
   "source": [
    "from sklearn.metrics import roc_curve\n",
    "from sklearn.metrics import roc_auc_score\n",
    "\n",
    "# generate a no skill prediction (majority class)\n",
    "ns_probs = [0 for _ in range(len(y_test))]\n",
    "# fit a model\n",
    "\n",
    "# predict probabilities\n",
    "y_probs = xgb.predict_proba(X_test)\n",
    "# keep probabilities for the positive outcome only\n",
    "y_probs = y_probs[:, 1]\n",
    "# calculate scores\n",
    "ns_auc = roc_auc_score(y_test, ns_probs)\n",
    "xgb_auc = roc_auc_score(y_test, y_probs)\n",
    "# summarize scores\n",
    "print('No Skill: ROC AUC=%.3f' % (ns_auc))\n",
    "print('XGB: ROC AUC=%.3f' % (xgb_auc))\n",
    "# calculate roc curves\n",
    "ns_fpr, ns_tpr, _ = roc_curve(y_test, ns_probs)\n",
    "xgb_fpr, xgb_tpr, _ = roc_curve(y_test, y_probs)\n",
    "# plot the roc curve for the model\n",
    "pyplot.plot(ns_fpr, ns_tpr, linestyle='--', label='No Skill')\n",
    "pyplot.plot(xgb_fpr, xgb_tpr, marker='.', label='XGB')\n",
    "# axis labels\n",
    "pyplot.xlabel('False Positive Rate')\n",
    "pyplot.ylabel('True Positive Rate')\n",
    "# show the legend\n",
    "pyplot.legend();"
   ]
  },
  {
   "cell_type": "code",
   "execution_count": 21,
   "metadata": {},
   "outputs": [],
   "source": [
    "# Ref: https://machinelearningmastery.com/roc-curves-and-precision-recall-curves-for-classification-in-python/\n",
    "# https://towardsdatascience.com/understanding-auc-roc-curve-68b2303cc9c5"
   ]
  },
  {
   "cell_type": "code",
   "execution_count": 22,
   "metadata": {},
   "outputs": [
    {
     "name": "stdout",
     "output_type": "stream",
     "text": [
      "No Skill: ROC AUC=0.500\n",
      "XGB: ROC AUC=0.721\n",
      "SVM: ROC AUC=0.604\n"
     ]
    },
    {
     "data": {
      "image/png": "[encoded data removed]",
      "text/plain": [
       "<Figure size 432x288 with 1 Axes>"
      ]
     },
     "metadata": {
      "needs_background": "light"
     },
     "output_type": "display_data"
    }
   ],
   "source": [
    "# SVM\n",
    "from sklearn.svm import SVC\n",
    "svm = SVC(kernel='poly', class_weight='balanced', random_state=42, C=3, probability=True).fit(X_train, y_train)\n",
    "\n",
    "y_probs2 = svm.predict_proba(X_test)\n",
    "# keep probabilities for the positive outcome only\n",
    "y_probs2 = y_probs2[:, 1]\n",
    "# calculate scores\n",
    "svm_auc = roc_auc_score(y_test, y_probs2)\n",
    "# summarize scores\n",
    "print('No Skill: ROC AUC=%.3f' % (ns_auc))\n",
    "print('XGB: ROC AUC=%.3f' % (xgb_auc))\n",
    "print('SVM: ROC AUC=%.3f' % (svm_auc))\n",
    "\n",
    "# calculate roc curves\n",
    "svm_fpr, svm_tpr, _ = roc_curve(y_test, y_probs2)\n",
    "# plot the roc curve for the model\n",
    "pyplot.plot(ns_fpr, ns_tpr, linestyle='--', label='No Skill')\n",
    "pyplot.plot(xgb_fpr, xgb_tpr, marker='.', label='XGB')\n",
    "pyplot.plot(svm_fpr, svm_tpr, marker='.', label='SVM')\n",
    "\n",
    "# axis labels\n",
    "\n",
    "pyplot.legend();\n",
    "\n",
    "pyplot.savefig(\"ROC_Curve\")"
   ]
  },
  {
   "cell_type": "code",
   "execution_count": 23,
   "metadata": {},
   "outputs": [
    {
     "data": {
      "image/png": "[encoded data removed]",
      "text/plain": [
       "<Figure size 432x288 with 1 Axes>"
      ]
     },
     "metadata": {
      "needs_background": "light"
     },
     "output_type": "display_data"
    }
   ],
   "source": [
    "# calculate roc curves\n",
    "svm_fpr, svm_tpr, _ = roc_curve(y_test, y_probs2)\n",
    "# plot the roc curve for the model\n",
    "pyplot.plot(ns_fpr, ns_tpr, linestyle='--', label='No Skill')\n",
    "pyplot.plot(xgb_fpr, xgb_tpr, marker='.', label='XGB')\n",
    "pyplot.plot(svm_fpr, svm_tpr, marker='.', label='SVM')\n",
    "\n",
    "# axis labels\n",
    "\n",
    "pyplot.legend();\n",
    "\n",
    "pyplot.savefig(\"ROC_Curve\")"
   ]
  },
  {
   "cell_type": "code",
   "execution_count": 26,
   "metadata": {},
   "outputs": [],
   "source": [
    "\n",
    "from sklearn.linear_model import LogisticRegression\n",
    "\n",
    "logreg = LogisticRegression(C=0.1, class_weight='balanced', solver='liblinear')"
   ]
  },
  {
   "cell_type": "code",
   "execution_count": 27,
   "metadata": {},
   "outputs": [
    {
     "data": {
      "text/plain": [
       "LogisticRegression(C=0.1, class_weight='balanced', solver='liblinear')"
      ]
     },
     "execution_count": 27,
     "metadata": {},
     "output_type": "execute_result"
    }
   ],
   "source": [
    "logreg.fit(X_train, y_train)"
   ]
  },
  {
   "cell_type": "code",
   "execution_count": 32,
   "metadata": {},
   "outputs": [
    {
     "name": "stdout",
     "output_type": "stream",
     "text": [
      "No Skill: ROC AUC=0.500\n",
      "XGB: ROC AUC=0.721\n",
      "SVM: ROC AUC=0.604\n",
      "Logreg: ROC AUC=0.660\n"
     ]
    },
    {
     "data": {
      "image/png": "[encoded data removed]",
      "text/plain": [
       "<Figure size 432x288 with 1 Axes>"
      ]
     },
     "metadata": {
      "needs_background": "light"
     },
     "output_type": "display_data"
    }
   ],
   "source": [
    "y_probs3 = logreg.predict_proba(X_test)\n",
    "# keep probabilities for the positive outcome only\n",
    "y_probs3 = y_probs3[:, 1]\n",
    "# calculate scores\n",
    "logreg_auc = roc_auc_score(y_test, y_probs3)\n",
    "# summarize scores\n",
    "print('No Skill: ROC AUC=%.3f' % (ns_auc))\n",
    "print('XGB: ROC AUC=%.3f' % (xgb_auc))\n",
    "print('SVM: ROC AUC=%.3f' % (svm_auc))\n",
    "print('Logreg: ROC AUC=%.3f' % (logreg_auc))\n",
    "\n",
    "# calculate roc curves\n",
    "logreg_fpr, logreg_tpr, _ = roc_curve(y_test, y_probs3)\n",
    "# plot the roc curve for the model\n",
    "pyplot.plot(ns_fpr, ns_tpr, linestyle='--', label='No Skill')\n",
    "pyplot.plot(xgb_fpr, xgb_tpr, marker='.', label='XGB')\n",
    "pyplot.plot(svm_fpr, svm_tpr, marker='.', label='SVM')\n",
    "pyplot.plot(logreg_fpr, logreg_tpr, marker='.', label='Logreg')\n",
    "\n",
    "# axis labels\n",
    "\n",
    "pyplot.legend();\n",
    "pyplot.xlabel('False Positive Rate')\n",
    "pyplot.ylabel('True Positive Rate')\n",
    "pyplot.title(\"ROC Curve\");\n",
    "pyplot.savefig(\"ROC_Curve\");"
   ]
  },
  {
   "cell_type": "code",
   "execution_count": null,
   "metadata": {},
   "outputs": [],
   "source": []
  }
 ],
 "metadata": {
  "kernelspec": {
   "display_name": "Python 3",
   "language": "python",
   "name": "python3"
  },
  "language_info": {
   "codemirror_mode": {
    "name": "ipython",
    "version": 3
   },
   "file_extension": ".py",
   "mimetype": "text/x-python",
   "name": "python",
   "nbconvert_exporter": "python",
   "pygments_lexer": "ipython3",
   "version": "3.7.6"
  }
 },
 "nbformat": 4,
 "nbformat_minor": 4
}
