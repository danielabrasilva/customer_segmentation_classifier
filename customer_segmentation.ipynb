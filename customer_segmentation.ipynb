{
 "cells": [
  {
   "cell_type": "markdown",
   "metadata": {},
   "source": [
    "# Capstone Project: Create a Customer Segmentation Report for Arvato Financial Services\n",
    "\n",
    "In this project, you will analyze demographics data for customers of a mail-order sales company in Germany, comparing it against demographics information for the general population. You'll use unsupervised learning techniques to perform customer segmentation, identifying the parts of the population that best describe the core customer base of the company. Then, you'll apply what you've learned on a third dataset with demographics information for targets of a marketing campaign for the company, and use a model to predict which individuals are most likely to convert into becoming customers for the company. The data that you will use has been provided by our partners at Bertelsmann Arvato Analytics, and represents a real-life data science task.\n",
    "\n",
    "If you completed the first term of this program, you will be familiar with the first part of this project, from the unsupervised learning project. The versions of those two datasets used in this project will include many more features and has not been pre-cleaned. You are also free to choose whatever approach you'd like to analyzing the data rather than follow pre-determined steps. In your work on this project, make sure that you carefully document your steps and decisions, since your main deliverable for this project will be a blog post reporting your findings."
   ]
  },
  {
   "cell_type": "code",
   "execution_count": 213,
   "metadata": {},
   "outputs": [],
   "source": [
    "# import libraries here; add more as necessary\n",
    "import numpy as np\n",
    "import pandas as pd\n",
    "import matplotlib.pyplot as plt\n",
    "import seaborn as sns\n",
    "from sklearn.impute import SimpleImputer\n",
    "# magic word for producing visualizations in notebook\n",
    "%matplotlib inline"
   ]
  },
  {
   "cell_type": "markdown",
   "metadata": {},
   "source": [
    "## Part 0: Get to Know the Data\n",
    "\n",
    "There are four data files associated with this project:\n",
    "\n",
    "- `Udacity_AZDIAS_052018.csv`: Demographics data for the general population of Germany; 891 211 persons (rows) x 366 features (columns).\n",
    "- `Udacity_CUSTOMERS_052018.csv`: Demographics data for customers of a mail-order company; 191 652 persons (rows) x 369 features (columns).\n",
    "- `Udacity_MAILOUT_052018_TRAIN.csv`: Demographics data for individuals who were targets of a marketing campaign; 42 982 persons (rows) x 367 (columns).\n",
    "- `Udacity_MAILOUT_052018_TEST.csv`: Demographics data for individuals who were targets of a marketing campaign; 42 833 persons (rows) x 366 (columns).\n",
    "\n",
    "Each row of the demographics files represents a single person, but also includes information outside of individuals, including information about their household, building, and neighborhood. Use the information from the first two files to figure out how customers (\"CUSTOMERS\") are similar to or differ from the general population at large (\"AZDIAS\"), then use your analysis to make predictions on the other two files (\"MAILOUT\"), predicting which recipients are most likely to become a customer for the mail-order company.\n",
    "\n",
    "The \"CUSTOMERS\" file contains three extra columns ('CUSTOMER_GROUP', 'ONLINE_PURCHASE', and 'PRODUCT_GROUP'), which provide broad information about the customers depicted in the file. The original \"MAILOUT\" file included one additional column, \"RESPONSE\", which indicated whether or not each recipient became a customer of the company. For the \"TRAIN\" subset, this column has been retained, but in the \"TEST\" subset it has been removed; it is against that withheld column that your final predictions will be assessed in the Kaggle competition.\n",
    "\n",
    "Otherwise, all of the remaining columns are the same between the three data files. For more information about the columns depicted in the files, you can refer to two Excel spreadsheets provided in the workspace. [One of them](./DIAS Information Levels - Attributes 2017.xlsx) is a top-level list of attributes and descriptions, organized by informational category. [The other](./DIAS Attributes - Values 2017.xlsx) is a detailed mapping of data values for each feature in alphabetical order.\n",
    "\n",
    "In the below cell, we've provided some initial code to load in the first two datasets. Note for all of the `.csv` data files in this project that they're semicolon (`;`) delimited, so an additional argument in the [`read_csv()`](https://pandas.pydata.org/pandas-docs/stable/generated/pandas.read_csv.html) call has been included to read in the data properly. Also, considering the size of the datasets, it may take some time for them to load completely.\n",
    "\n",
    "You'll notice when the data is loaded in that a warning message will immediately pop up. Before you really start digging into the modeling and analysis, you're going to need to perform some cleaning. Take some time to browse the structure of the data and look over the informational spreadsheets to understand the data values. Make some decisions on which features to keep, which features to drop, and if any revisions need to be made on data formats. It'll be a good idea to create a function with pre-processing steps, since you'll need to clean all of the datasets before you work with them."
   ]
  },
  {
   "cell_type": "code",
   "execution_count": 214,
   "metadata": {},
   "outputs": [],
   "source": [
    "# load in the data\n",
    "azdias = pd.read_csv('data/Udacity_AZDIAS_052018.csv', sep=';', dtype={'CAMEO_DEUG_2015': str, 'CAMEO_INTL_2015':str})\n",
    "customers = pd.read_csv('data/Udacity_CUSTOMERS_052018.csv', sep=';', dtype={'CAMEO_DEUG_2015': str, 'CAMEO_INTL_2015':str})"
   ]
  },
  {
   "cell_type": "code",
   "execution_count": 215,
   "metadata": {},
   "outputs": [
    {
     "data": {
      "text/plain": [
       "(891221, 366)"
      ]
     },
     "execution_count": 215,
     "metadata": {},
     "output_type": "execute_result"
    }
   ],
   "source": [
    "# AZDIAS shape\n",
    "azdias.shape"
   ]
  },
  {
   "cell_type": "code",
   "execution_count": 216,
   "metadata": {},
   "outputs": [
    {
     "data": {
      "text/plain": [
       "(191652, 369)"
      ]
     },
     "execution_count": 216,
     "metadata": {},
     "output_type": "execute_result"
    }
   ],
   "source": [
    "# COSTUMERS shape\n",
    "customers.shape"
   ]
  },
  {
   "cell_type": "code",
   "execution_count": 217,
   "metadata": {},
   "outputs": [],
   "source": [
    "# Be sure to add in a lot more cells (both markdown and code) to document your\n",
    "# approach and findings!\n",
    "#azdias_part = azdias.sample(10000)\n",
    "#customers_part = customers.sample(10000)"
   ]
  },
  {
   "cell_type": "code",
   "execution_count": 218,
   "metadata": {},
   "outputs": [],
   "source": [
    "# Replace wrong data\n",
    "azdias['CAMEO_DEUG_2015'] = azdias['CAMEO_DEUG_2015'].replace('\\D', '-1', regex=True)\n",
    "azdias['CAMEO_INTL_2015'] = azdias['CAMEO_INTL_2015'].replace('\\D+', '-1', regex=True)\n",
    "\n",
    "customers['CAMEO_DEUG_2015'] = customers['CAMEO_DEUG_2015'].replace('\\D', '-1', regex=True)\n",
    "customers['CAMEO_INTL_2015'] = customers['CAMEO_INTL_2015'].replace('\\D+', '-1', regex=True)"
   ]
  },
  {
   "cell_type": "code",
   "execution_count": 219,
   "metadata": {},
   "outputs": [],
   "source": [
    "# Id of each group\n",
    "others_id = azdias['LNR'].unique()\n",
    "customers_id = customers['LNR'].unique()"
   ]
  },
  {
   "cell_type": "code",
   "execution_count": 220,
   "metadata": {},
   "outputs": [
    {
     "name": "stdout",
     "output_type": "stream",
     "text": [
      "<class 'pandas.core.frame.DataFrame'>\n",
      "RangeIndex: 191652 entries, 0 to 191651\n",
      "Data columns (total 4 columns):\n",
      " #   Column           Non-Null Count   Dtype \n",
      "---  ------           --------------   ----- \n",
      " 0   LNR              191652 non-null  int64 \n",
      " 1   CUSTOMER_GROUP   191652 non-null  object\n",
      " 2   ONLINE_PURCHASE  191652 non-null  int64 \n",
      " 3   PRODUCT_GROUP    191652 non-null  object\n",
      "dtypes: int64(2), object(2)\n",
      "memory usage: 5.8+ MB\n"
     ]
    }
   ],
   "source": [
    "# Analyse Customers\n",
    "customer_features = customers[['LNR','CUSTOMER_GROUP', 'ONLINE_PURCHASE', 'PRODUCT_GROUP']]\n",
    "customer_features.info() # There is no null values"
   ]
  },
  {
   "cell_type": "code",
   "execution_count": 221,
   "metadata": {},
   "outputs": [
    {
     "data": {
      "image/png": "[encoded data removed]",
      "text/plain": [
       "<Figure size 1080x288 with 3 Axes>"
      ]
     },
     "metadata": {
      "needs_background": "light"
     },
     "output_type": "display_data"
    }
   ],
   "source": [
    "# Analyse Customers - Univariate Exploration\n",
    "base_color = sns.color_palette()\n",
    "\n",
    "plt.figure(figsize=(15,4))\n",
    "plt.subplot(1,3,1)\n",
    "sns.countplot(data=customer_features, x='CUSTOMER_GROUP', color=base_color[3]);\n",
    "plt.title(\"CUSTOMER GROUP\");\n",
    "plt.xlabel(\"\");\n",
    "plt.ylabel(\"\");\n",
    "plt.ylim([0, 180000]);\n",
    "\n",
    "plt.subplot(1,3,2)\n",
    "sns.countplot(data=customer_features, x='ONLINE_PURCHASE', color=base_color[0]);\n",
    "plt.title(\"ONLINE PURCHASE\");\n",
    "plt.xlabel(\"\");\n",
    "plt.ylabel(\"\");\n",
    "plt.ylim([0, 180000]);\n",
    "\n",
    "plt.subplot(1,3,3)\n",
    "sns.countplot(data=customer_features, x='PRODUCT_GROUP', color=base_color[4]);\n",
    "plt.title(\"PRODUCT GROUP\");\n",
    "plt.xlabel(\"\");\n",
    "plt.ylabel(\"\");\n",
    "plt.ylim([0, 180000]);\n",
    "\n",
    "plt.savefig('univariate.png', format='png')\n"
   ]
  },
  {
   "cell_type": "code",
   "execution_count": 222,
   "metadata": {},
   "outputs": [
    {
     "name": "stdout",
     "output_type": "stream",
     "text": [
      "percentage of multi buyer: 69.0 % \n",
      "percentage of single buyer: 31.0 % \n",
      "\n",
      "\n",
      "percentage of non_online: 91.0 % \n",
      "percentage of online: 9.0 % \n",
      "\n",
      "\n",
      "percentage of COSMETIC_AND_FOOD group: 52.6 % \n",
      "percentage of FOOD: 24.7 % \n",
      "percentage of COSMETIC: 22.7 % \n",
      "\n",
      "\n"
     ]
    }
   ],
   "source": [
    "# CUSTOMER GROUP\n",
    "customer_group = customer_features['CUSTOMER_GROUP'].value_counts() / customer_features['CUSTOMER_GROUP'].value_counts().sum()\n",
    "\n",
    "multi_buyer = customer_group.values[0]*100\n",
    "single_buyer = customer_group.values[1]*100\n",
    "\n",
    "print(\"percentage of multi buyer: {:2.1f} % \".format(multi_buyer))\n",
    "print(\"percentage of single buyer: {:2.1f} % \".format(single_buyer))\n",
    "print(\"\\n\")\n",
    "\n",
    "# ONLINE PURCHASE GROUP\n",
    "online_purchase = customer_features['ONLINE_PURCHASE'].value_counts() / customer_features['ONLINE_PURCHASE'].value_counts().sum()\n",
    "\n",
    "non_online = online_purchase.values[0]*100\n",
    "online = online_purchase.values[1]*100\n",
    "\n",
    "print(\"percentage of non_online: {:2.1f} % \".format(non_online))\n",
    "print(\"percentage of online: {:2.1f} % \".format(online))\n",
    "print('\\n')\n",
    "\n",
    "# PRODUCT GROUP\n",
    "product_group = customer_features['PRODUCT_GROUP'].value_counts() / customer_features['PRODUCT_GROUP'].value_counts().sum()\n",
    "\n",
    "cosmetic_food = product_group.values[0]*100\n",
    "food = product_group.values[1]*100\n",
    "cosmetic = product_group.values[2]*100\n",
    "\n",
    "print(\"percentage of COSMETIC_AND_FOOD group: {:2.1f} % \".format(cosmetic_food))\n",
    "print(\"percentage of FOOD: {:2.1f} % \".format(food))\n",
    "print(\"percentage of COSMETIC: {:2.1f} % \".format(cosmetic))\n",
    "\n",
    "print('\\n')"
   ]
  },
  {
   "cell_type": "code",
   "execution_count": 223,
   "metadata": {},
   "outputs": [
    {
     "data": {
      "image/png": "[encoded data removed]",
      "text/plain": [
       "<Figure size 720x216 with 2 Axes>"
      ]
     },
     "metadata": {
      "needs_background": "light"
     },
     "output_type": "display_data"
    }
   ],
   "source": [
    "# Analyse Customers - Bivariate Exploration\n",
    "\n",
    "# CUSTOMER_GROUP vs ONLINE_PURCHASE\n",
    "plt.figure(figsize=(10,3));\n",
    "plt.subplot(1,2,1)\n",
    "sns.countplot(data=customer_features, x='CUSTOMER_GROUP', hue='ONLINE_PURCHASE');\n",
    "plt.ylabel(\"\");\n",
    "plt.xlabel(\"\");\n",
    "plt.title('CUSTOMER GROUP');\n",
    "\n",
    "plt.subplot(1,2,2)\n",
    "sns.countplot(data=customer_features, x='ONLINE_PURCHASE', hue='CUSTOMER_GROUP');\n",
    "plt.ylabel(\"\");\n",
    "plt.xlabel(\"\");\n",
    "plt.title('ONLINE PURCHASE');\n",
    "\n",
    "plt.savefig('bivariate1.png', format='png')\n"
   ]
  },
  {
   "cell_type": "markdown",
   "metadata": {},
   "source": [
    ">- A maior parte dos clientes são os multi-compradores que não compram online."
   ]
  },
  {
   "cell_type": "code",
   "execution_count": 224,
   "metadata": {},
   "outputs": [
    {
     "data": {
      "image/png": "[encoded data removed]",
      "text/plain": [
       "<Figure size 720x216 with 2 Axes>"
      ]
     },
     "metadata": {
      "needs_background": "light"
     },
     "output_type": "display_data"
    }
   ],
   "source": [
    "# Analyse Customers - Bivariate Exploration\n",
    "\n",
    "# CUSTOMER_GROUP vs PRODUCT_GROUP\n",
    "plt.figure(figsize=(10,3));\n",
    "plt.subplot(1,2,1)\n",
    "sns.countplot(data=customer_features, x='CUSTOMER_GROUP', hue='PRODUCT_GROUP');\n",
    "plt.ylabel(\"\");\n",
    "\n",
    "plt.subplot(1,2,2)\n",
    "sns.countplot(data=customer_features, x='PRODUCT_GROUP', hue='CUSTOMER_GROUP');\n",
    "plt.ylabel(\"\");\n",
    "plt.savefig('bivariate2.png', format='png')\n"
   ]
  },
  {
   "cell_type": "markdown",
   "metadata": {},
   "source": [
    ">- A maior parte dos clientes são multi-compradores que compram cosméticos e comida.\n"
   ]
  },
  {
   "cell_type": "code",
   "execution_count": 225,
   "metadata": {},
   "outputs": [
    {
     "data": {
      "image/png": "[encoded data removed]",
      "text/plain": [
       "<Figure size 720x216 with 1 Axes>"
      ]
     },
     "metadata": {
      "needs_background": "light"
     },
     "output_type": "display_data"
    }
   ],
   "source": [
    "# Analyse Customers - Bivariate Exploration\n",
    "\n",
    "# PRODUCT_GROUP\" vs \"ONLINE_PURCHASE\"\n",
    "plt.figure(figsize=(10,3));\n",
    "plt.subplot(1,2,1)\n",
    "sns.countplot(data=customer_features, x='ONLINE_PURCHASE', hue='PRODUCT_GROUP');\n",
    "plt.ylabel(\"\");\n",
    "plt.savefig('bivariate3.png', format='png')\n"
   ]
  },
  {
   "cell_type": "markdown",
   "metadata": {},
   "source": [
    "**Online purchase**\n",
    "\n",
    ">- A maior parte dos clientes compram cosméticos & comida.\n",
    "\n",
    "**Non-online purchase**\n",
    "\n",
    ">- Os clientes estão distruibuídos de forma mais uniforme entre os grupos de produtos.\n"
   ]
  },
  {
   "cell_type": "code",
   "execution_count": 226,
   "metadata": {},
   "outputs": [],
   "source": [
    "# Gather general and customer data in a dataset\n",
    "\n",
    "total_df = pd.concat([azdias, customers], axis=0, join='inner')\n",
    "\n",
    "# Drop columns with object type - verificar se usarei\n",
    "\n",
    "aux = (total_df.dtypes=='object')\n",
    "obj_cols = aux[aux].index.values\n",
    "\n",
    "#total_df = total_df.set_index('LNR')\n",
    "#total_df = total_df.drop(columns=obj_cols)\n"
   ]
  },
  {
   "cell_type": "code",
   "execution_count": 227,
   "metadata": {},
   "outputs": [
    {
     "data": {
      "text/plain": [
       "{'CAMEO_DEU_2015': 45,\n",
       " 'CAMEO_DEUG_2015': 10,\n",
       " 'CAMEO_INTL_2015': 22,\n",
       " 'D19_LETZTER_KAUF_BRANCHE': 35,\n",
       " 'EINGEFUEGT_AM': 3034,\n",
       " 'OST_WEST_KZ': 2}"
      ]
     },
     "execution_count": 227,
     "metadata": {},
     "output_type": "execute_result"
    }
   ],
   "source": [
    "# Verify the quantity of values in each categoric column\n",
    "obj_values = {col: customers[col].nunique() for col in obj_cols}\n",
    "obj_values    \n",
    "    "
   ]
  },
  {
   "cell_type": "code",
   "execution_count": 228,
   "metadata": {},
   "outputs": [],
   "source": [
    "# Create a function that remove columns with 90% nan values\n",
    "\n",
    "def drop_na_columns(df, na_perct=.9):\n",
    "    \n",
    "    '''Drop columns with missing values when they represent 90 percent of the rows and return it. \n",
    "    \n",
    "    inputs\n",
    "    na_perct(float): the percentage of missing values in a column.\n",
    "    df(pandas DataFrame): the DataFrame\n",
    "    \n",
    "    output\n",
    "    new_df(pandas DataFrame): the DataFrame after columns dropped.\n",
    "    \n",
    "    \n",
    "    '''\n",
    "    drop_cols = df.isnull().sum() / df.shape[0]\n",
    "    labels = drop_cols[drop_cols>=na_perct].index.values\n",
    "    new_df = df.drop(labels=labels, axis=1 )\n",
    "    \n",
    "    return new_df\n",
    "    \n",
    "    \n",
    "def drop_na_rows(df, na_perct=.9):\n",
    "    \n",
    "    '''Drop rows with missing values when they represent 90 percent of the rows and return it. \n",
    "    \n",
    "    inputs\n",
    "    na_perct(float): the percentage of missing values in a row.\n",
    "    df(pandas DataFrame): the DataFrame\n",
    "    \n",
    "    output\n",
    "    new_df(pandas DataFrame): the DataFrame after rows dropped.\n",
    "    \n",
    "    \n",
    "    '''\n",
    "    \n",
    "    thresh = np.ceil(na_perct * df.shape[1])\n",
    "    new_df = df.dropna(axis=0, thresh=thresh)\n",
    "    \n",
    "    return new_df\n",
    "\n",
    "def drop_invariability(df, na_perct=0.9):\n",
    "    '''\n",
    "    '''\n",
    "    cols = df.columns\n",
    "    no_var_cols = []\n",
    "    new_df = df\n",
    "    \n",
    "    for col in cols:\n",
    "        aux = df[col].value_counts() / df[col].value_counts().sum()\n",
    "        if np.sum(aux >= na_perct) > 0:\n",
    "            new_df = new_df.drop(labels=col, axis=1)\n",
    "            \n",
    "    return new_df\n",
    "            \n",
    "        \n",
    "        \n"
   ]
  },
  {
   "cell_type": "code",
   "execution_count": 229,
   "metadata": {},
   "outputs": [],
   "source": [
    "total_df = drop_na_columns(df=total_df, na_perct=0.7)\n",
    "total_df = drop_na_rows(df=total_df, na_perct=0.7)\n",
    "total_df = drop_invariability(total_df, na_perct=0.9)\n",
    "\n",
    "total_df.reset_index(drop=True, inplace=True)\n"
   ]
  },
  {
   "cell_type": "code",
   "execution_count": 230,
   "metadata": {},
   "outputs": [],
   "source": [
    "obj_cols = ['CAMEO_DEU_2015', 'CAMEO_DEUG_2015', 'CAMEO_INTL_2015', 'D19_LETZTER_KAUF_BRANCHE', 'EINGEFUEGT_AM']\n",
    "total_df = total_df.drop(columns=obj_cols)"
   ]
  },
  {
   "cell_type": "code",
   "execution_count": 231,
   "metadata": {},
   "outputs": [
    {
     "data": {
      "text/html": [
       "<div>\n",
       "<style scoped>\n",
       "    .dataframe tbody tr th:only-of-type {\n",
       "        vertical-align: middle;\n",
       "    }\n",
       "\n",
       "    .dataframe tbody tr th {\n",
       "        vertical-align: top;\n",
       "    }\n",
       "\n",
       "    .dataframe thead th {\n",
       "        text-align: right;\n",
       "    }\n",
       "</style>\n",
       "<table border=\"1\" class=\"dataframe\">\n",
       "  <thead>\n",
       "    <tr style=\"text-align: right;\">\n",
       "      <th></th>\n",
       "      <th>LNR</th>\n",
       "      <th>AGER_TYP</th>\n",
       "      <th>AKT_DAT_KL</th>\n",
       "      <th>ALTER_HH</th>\n",
       "      <th>ALTERSKATEGORIE_FEIN</th>\n",
       "      <th>ANZ_HAUSHALTE_AKTIV</th>\n",
       "      <th>ANZ_KINDER</th>\n",
       "      <th>ANZ_PERSONEN</th>\n",
       "      <th>ANZ_STATISTISCHE_HAUSHALTE</th>\n",
       "      <th>ARBEIT</th>\n",
       "      <th>...</th>\n",
       "      <th>VHN</th>\n",
       "      <th>VK_DHT4A</th>\n",
       "      <th>VK_DISTANZ</th>\n",
       "      <th>VK_ZG11</th>\n",
       "      <th>W_KEIT_KIND_HH</th>\n",
       "      <th>WOHNDAUER_2008</th>\n",
       "      <th>WOHNLAGE</th>\n",
       "      <th>ZABEOTYP</th>\n",
       "      <th>ANREDE_KZ</th>\n",
       "      <th>ALTERSKATEGORIE_GROB</th>\n",
       "    </tr>\n",
       "  </thead>\n",
       "  <tbody>\n",
       "    <tr>\n",
       "      <th>0</th>\n",
       "      <td>910220</td>\n",
       "      <td>-1</td>\n",
       "      <td>9.0</td>\n",
       "      <td>0.0</td>\n",
       "      <td>21.0</td>\n",
       "      <td>11.0</td>\n",
       "      <td>0.0</td>\n",
       "      <td>2.0</td>\n",
       "      <td>12.0</td>\n",
       "      <td>3.0</td>\n",
       "      <td>...</td>\n",
       "      <td>4.0</td>\n",
       "      <td>8.0</td>\n",
       "      <td>11.0</td>\n",
       "      <td>10.0</td>\n",
       "      <td>3.0</td>\n",
       "      <td>9.0</td>\n",
       "      <td>4.0</td>\n",
       "      <td>5</td>\n",
       "      <td>2</td>\n",
       "      <td>1</td>\n",
       "    </tr>\n",
       "    <tr>\n",
       "      <th>1</th>\n",
       "      <td>910225</td>\n",
       "      <td>-1</td>\n",
       "      <td>9.0</td>\n",
       "      <td>17.0</td>\n",
       "      <td>17.0</td>\n",
       "      <td>10.0</td>\n",
       "      <td>0.0</td>\n",
       "      <td>1.0</td>\n",
       "      <td>7.0</td>\n",
       "      <td>3.0</td>\n",
       "      <td>...</td>\n",
       "      <td>2.0</td>\n",
       "      <td>9.0</td>\n",
       "      <td>9.0</td>\n",
       "      <td>6.0</td>\n",
       "      <td>3.0</td>\n",
       "      <td>9.0</td>\n",
       "      <td>2.0</td>\n",
       "      <td>5</td>\n",
       "      <td>2</td>\n",
       "      <td>3</td>\n",
       "    </tr>\n",
       "    <tr>\n",
       "      <th>2</th>\n",
       "      <td>910226</td>\n",
       "      <td>2</td>\n",
       "      <td>1.0</td>\n",
       "      <td>13.0</td>\n",
       "      <td>13.0</td>\n",
       "      <td>1.0</td>\n",
       "      <td>0.0</td>\n",
       "      <td>0.0</td>\n",
       "      <td>2.0</td>\n",
       "      <td>2.0</td>\n",
       "      <td>...</td>\n",
       "      <td>0.0</td>\n",
       "      <td>7.0</td>\n",
       "      <td>10.0</td>\n",
       "      <td>11.0</td>\n",
       "      <td>NaN</td>\n",
       "      <td>9.0</td>\n",
       "      <td>7.0</td>\n",
       "      <td>3</td>\n",
       "      <td>2</td>\n",
       "      <td>4</td>\n",
       "    </tr>\n",
       "    <tr>\n",
       "      <th>3</th>\n",
       "      <td>910241</td>\n",
       "      <td>-1</td>\n",
       "      <td>1.0</td>\n",
       "      <td>20.0</td>\n",
       "      <td>14.0</td>\n",
       "      <td>3.0</td>\n",
       "      <td>0.0</td>\n",
       "      <td>4.0</td>\n",
       "      <td>3.0</td>\n",
       "      <td>4.0</td>\n",
       "      <td>...</td>\n",
       "      <td>2.0</td>\n",
       "      <td>3.0</td>\n",
       "      <td>5.0</td>\n",
       "      <td>4.0</td>\n",
       "      <td>2.0</td>\n",
       "      <td>9.0</td>\n",
       "      <td>3.0</td>\n",
       "      <td>4</td>\n",
       "      <td>1</td>\n",
       "      <td>3</td>\n",
       "    </tr>\n",
       "    <tr>\n",
       "      <th>4</th>\n",
       "      <td>910244</td>\n",
       "      <td>3</td>\n",
       "      <td>1.0</td>\n",
       "      <td>10.0</td>\n",
       "      <td>10.0</td>\n",
       "      <td>5.0</td>\n",
       "      <td>0.0</td>\n",
       "      <td>1.0</td>\n",
       "      <td>2.0</td>\n",
       "      <td>2.0</td>\n",
       "      <td>...</td>\n",
       "      <td>2.0</td>\n",
       "      <td>10.0</td>\n",
       "      <td>7.0</td>\n",
       "      <td>4.0</td>\n",
       "      <td>6.0</td>\n",
       "      <td>9.0</td>\n",
       "      <td>7.0</td>\n",
       "      <td>4</td>\n",
       "      <td>2</td>\n",
       "      <td>1</td>\n",
       "    </tr>\n",
       "  </tbody>\n",
       "</table>\n",
       "<p>5 rows × 328 columns</p>\n",
       "</div>"
      ],
      "text/plain": [
       "      LNR  AGER_TYP  AKT_DAT_KL  ALTER_HH  ALTERSKATEGORIE_FEIN  \\\n",
       "0  910220        -1         9.0       0.0                  21.0   \n",
       "1  910225        -1         9.0      17.0                  17.0   \n",
       "2  910226         2         1.0      13.0                  13.0   \n",
       "3  910241        -1         1.0      20.0                  14.0   \n",
       "4  910244         3         1.0      10.0                  10.0   \n",
       "\n",
       "   ANZ_HAUSHALTE_AKTIV  ANZ_KINDER  ANZ_PERSONEN  ANZ_STATISTISCHE_HAUSHALTE  \\\n",
       "0                 11.0         0.0           2.0                        12.0   \n",
       "1                 10.0         0.0           1.0                         7.0   \n",
       "2                  1.0         0.0           0.0                         2.0   \n",
       "3                  3.0         0.0           4.0                         3.0   \n",
       "4                  5.0         0.0           1.0                         2.0   \n",
       "\n",
       "   ARBEIT  ...  VHN  VK_DHT4A  VK_DISTANZ  VK_ZG11  W_KEIT_KIND_HH  \\\n",
       "0     3.0  ...  4.0       8.0        11.0     10.0             3.0   \n",
       "1     3.0  ...  2.0       9.0         9.0      6.0             3.0   \n",
       "2     2.0  ...  0.0       7.0        10.0     11.0             NaN   \n",
       "3     4.0  ...  2.0       3.0         5.0      4.0             2.0   \n",
       "4     2.0  ...  2.0      10.0         7.0      4.0             6.0   \n",
       "\n",
       "   WOHNDAUER_2008  WOHNLAGE  ZABEOTYP  ANREDE_KZ  ALTERSKATEGORIE_GROB  \n",
       "0             9.0       4.0         5          2                     1  \n",
       "1             9.0       2.0         5          2                     3  \n",
       "2             9.0       7.0         3          2                     4  \n",
       "3             9.0       3.0         4          1                     3  \n",
       "4             9.0       7.0         4          2                     1  \n",
       "\n",
       "[5 rows x 328 columns]"
      ]
     },
     "execution_count": 231,
     "metadata": {},
     "output_type": "execute_result"
    }
   ],
   "source": [
    "total_df.head()"
   ]
  },
  {
   "cell_type": "code",
   "execution_count": 232,
   "metadata": {},
   "outputs": [],
   "source": [
    "# Columns and dataframe with missing values\n",
    "aux = total_df.isnull().sum().sort_values()\n",
    "cols_with_missing = aux[aux>0]\n",
    "cols_with_missing = cols_with_missing.index.values\n",
    "\n",
    "for col in cols_with_missing:\n",
    "    if total_df[col].isnull().sum() > 0.1*total_df.shape[0]:\n",
    "            total_df[col+'_was_missing'] = total_df[col].isnull()"
   ]
  },
  {
   "cell_type": "code",
   "execution_count": 233,
   "metadata": {},
   "outputs": [
    {
     "data": {
      "text/html": [
       "<div>\n",
       "<style scoped>\n",
       "    .dataframe tbody tr th:only-of-type {\n",
       "        vertical-align: middle;\n",
       "    }\n",
       "\n",
       "    .dataframe tbody tr th {\n",
       "        vertical-align: top;\n",
       "    }\n",
       "\n",
       "    .dataframe thead th {\n",
       "        text-align: right;\n",
       "    }\n",
       "</style>\n",
       "<table border=\"1\" class=\"dataframe\">\n",
       "  <thead>\n",
       "    <tr style=\"text-align: right;\">\n",
       "      <th></th>\n",
       "      <th>LNR</th>\n",
       "      <th>AGER_TYP</th>\n",
       "      <th>AKT_DAT_KL</th>\n",
       "      <th>ALTER_HH</th>\n",
       "      <th>ALTERSKATEGORIE_FEIN</th>\n",
       "      <th>ANZ_HAUSHALTE_AKTIV</th>\n",
       "      <th>ANZ_KINDER</th>\n",
       "      <th>ANZ_PERSONEN</th>\n",
       "      <th>ANZ_STATISTISCHE_HAUSHALTE</th>\n",
       "      <th>ARBEIT</th>\n",
       "      <th>...</th>\n",
       "      <th>ANREDE_KZ</th>\n",
       "      <th>ALTERSKATEGORIE_GROB</th>\n",
       "      <th>D19_KONSUMTYP_was_missing</th>\n",
       "      <th>D19_LOTTO_was_missing</th>\n",
       "      <th>D19_GESAMT_ONLINE_QUOTE_12_was_missing</th>\n",
       "      <th>D19_VERSAND_ONLINE_QUOTE_12_was_missing</th>\n",
       "      <th>D19_SOZIALES_was_missing</th>\n",
       "      <th>ALTERSKATEGORIE_FEIN_was_missing</th>\n",
       "      <th>KK_KUNDENTYP_was_missing</th>\n",
       "      <th>EXTSEL992_was_missing</th>\n",
       "    </tr>\n",
       "  </thead>\n",
       "  <tbody>\n",
       "    <tr>\n",
       "      <th>0</th>\n",
       "      <td>910220</td>\n",
       "      <td>-1</td>\n",
       "      <td>9.0</td>\n",
       "      <td>0.0</td>\n",
       "      <td>21.0</td>\n",
       "      <td>11.0</td>\n",
       "      <td>0.0</td>\n",
       "      <td>2.0</td>\n",
       "      <td>12.0</td>\n",
       "      <td>3.0</td>\n",
       "      <td>...</td>\n",
       "      <td>2</td>\n",
       "      <td>1</td>\n",
       "      <td>True</td>\n",
       "      <td>True</td>\n",
       "      <td>True</td>\n",
       "      <td>True</td>\n",
       "      <td>True</td>\n",
       "      <td>False</td>\n",
       "      <td>True</td>\n",
       "      <td>True</td>\n",
       "    </tr>\n",
       "    <tr>\n",
       "      <th>1</th>\n",
       "      <td>910225</td>\n",
       "      <td>-1</td>\n",
       "      <td>9.0</td>\n",
       "      <td>17.0</td>\n",
       "      <td>17.0</td>\n",
       "      <td>10.0</td>\n",
       "      <td>0.0</td>\n",
       "      <td>1.0</td>\n",
       "      <td>7.0</td>\n",
       "      <td>3.0</td>\n",
       "      <td>...</td>\n",
       "      <td>2</td>\n",
       "      <td>3</td>\n",
       "      <td>False</td>\n",
       "      <td>False</td>\n",
       "      <td>False</td>\n",
       "      <td>False</td>\n",
       "      <td>False</td>\n",
       "      <td>False</td>\n",
       "      <td>True</td>\n",
       "      <td>False</td>\n",
       "    </tr>\n",
       "    <tr>\n",
       "      <th>2</th>\n",
       "      <td>910226</td>\n",
       "      <td>2</td>\n",
       "      <td>1.0</td>\n",
       "      <td>13.0</td>\n",
       "      <td>13.0</td>\n",
       "      <td>1.0</td>\n",
       "      <td>0.0</td>\n",
       "      <td>0.0</td>\n",
       "      <td>2.0</td>\n",
       "      <td>2.0</td>\n",
       "      <td>...</td>\n",
       "      <td>2</td>\n",
       "      <td>4</td>\n",
       "      <td>False</td>\n",
       "      <td>False</td>\n",
       "      <td>False</td>\n",
       "      <td>False</td>\n",
       "      <td>False</td>\n",
       "      <td>False</td>\n",
       "      <td>True</td>\n",
       "      <td>False</td>\n",
       "    </tr>\n",
       "    <tr>\n",
       "      <th>3</th>\n",
       "      <td>910241</td>\n",
       "      <td>-1</td>\n",
       "      <td>1.0</td>\n",
       "      <td>20.0</td>\n",
       "      <td>14.0</td>\n",
       "      <td>3.0</td>\n",
       "      <td>0.0</td>\n",
       "      <td>4.0</td>\n",
       "      <td>3.0</td>\n",
       "      <td>4.0</td>\n",
       "      <td>...</td>\n",
       "      <td>1</td>\n",
       "      <td>3</td>\n",
       "      <td>False</td>\n",
       "      <td>False</td>\n",
       "      <td>False</td>\n",
       "      <td>False</td>\n",
       "      <td>False</td>\n",
       "      <td>False</td>\n",
       "      <td>False</td>\n",
       "      <td>True</td>\n",
       "    </tr>\n",
       "    <tr>\n",
       "      <th>4</th>\n",
       "      <td>910244</td>\n",
       "      <td>3</td>\n",
       "      <td>1.0</td>\n",
       "      <td>10.0</td>\n",
       "      <td>10.0</td>\n",
       "      <td>5.0</td>\n",
       "      <td>0.0</td>\n",
       "      <td>1.0</td>\n",
       "      <td>2.0</td>\n",
       "      <td>2.0</td>\n",
       "      <td>...</td>\n",
       "      <td>2</td>\n",
       "      <td>1</td>\n",
       "      <td>False</td>\n",
       "      <td>False</td>\n",
       "      <td>False</td>\n",
       "      <td>False</td>\n",
       "      <td>False</td>\n",
       "      <td>False</td>\n",
       "      <td>False</td>\n",
       "      <td>False</td>\n",
       "    </tr>\n",
       "  </tbody>\n",
       "</table>\n",
       "<p>5 rows × 336 columns</p>\n",
       "</div>"
      ],
      "text/plain": [
       "      LNR  AGER_TYP  AKT_DAT_KL  ALTER_HH  ALTERSKATEGORIE_FEIN  \\\n",
       "0  910220        -1         9.0       0.0                  21.0   \n",
       "1  910225        -1         9.0      17.0                  17.0   \n",
       "2  910226         2         1.0      13.0                  13.0   \n",
       "3  910241        -1         1.0      20.0                  14.0   \n",
       "4  910244         3         1.0      10.0                  10.0   \n",
       "\n",
       "   ANZ_HAUSHALTE_AKTIV  ANZ_KINDER  ANZ_PERSONEN  ANZ_STATISTISCHE_HAUSHALTE  \\\n",
       "0                 11.0         0.0           2.0                        12.0   \n",
       "1                 10.0         0.0           1.0                         7.0   \n",
       "2                  1.0         0.0           0.0                         2.0   \n",
       "3                  3.0         0.0           4.0                         3.0   \n",
       "4                  5.0         0.0           1.0                         2.0   \n",
       "\n",
       "   ARBEIT  ...  ANREDE_KZ  ALTERSKATEGORIE_GROB  D19_KONSUMTYP_was_missing  \\\n",
       "0     3.0  ...          2                     1                       True   \n",
       "1     3.0  ...          2                     3                      False   \n",
       "2     2.0  ...          2                     4                      False   \n",
       "3     4.0  ...          1                     3                      False   \n",
       "4     2.0  ...          2                     1                      False   \n",
       "\n",
       "   D19_LOTTO_was_missing  D19_GESAMT_ONLINE_QUOTE_12_was_missing  \\\n",
       "0                   True                                    True   \n",
       "1                  False                                   False   \n",
       "2                  False                                   False   \n",
       "3                  False                                   False   \n",
       "4                  False                                   False   \n",
       "\n",
       "   D19_VERSAND_ONLINE_QUOTE_12_was_missing  D19_SOZIALES_was_missing  \\\n",
       "0                                     True                      True   \n",
       "1                                    False                     False   \n",
       "2                                    False                     False   \n",
       "3                                    False                     False   \n",
       "4                                    False                     False   \n",
       "\n",
       "   ALTERSKATEGORIE_FEIN_was_missing  KK_KUNDENTYP_was_missing  \\\n",
       "0                             False                      True   \n",
       "1                             False                      True   \n",
       "2                             False                      True   \n",
       "3                             False                     False   \n",
       "4                             False                     False   \n",
       "\n",
       "   EXTSEL992_was_missing  \n",
       "0                   True  \n",
       "1                  False  \n",
       "2                  False  \n",
       "3                   True  \n",
       "4                  False  \n",
       "\n",
       "[5 rows x 336 columns]"
      ]
     },
     "execution_count": 233,
     "metadata": {},
     "output_type": "execute_result"
    }
   ],
   "source": [
    "total_df.head()"
   ]
  },
  {
   "cell_type": "code",
   "execution_count": 234,
   "metadata": {},
   "outputs": [],
   "source": [
    "total_df['OST_WEST_KZ'] = pd.get_dummies(total_df['OST_WEST_KZ'], prefix='OST_WEST_KZ', drop_first=True)"
   ]
  },
  {
   "cell_type": "code",
   "execution_count": null,
   "metadata": {},
   "outputs": [],
   "source": [
    "my_imputer1 = SimpleImputer(missing_values=np.nan, strategy='most_frequent')\n",
    "imputed_df = pd.DataFrame(my_imputer1.fit_transform(total_df))\n",
    "imputed_df.columns = total_df.columns"
   ]
  },
  {
   "cell_type": "code",
   "execution_count": null,
   "metadata": {},
   "outputs": [],
   "source": [
    "imputed_df.isnull().sum().sum()"
   ]
  },
  {
   "cell_type": "markdown",
   "metadata": {},
   "source": [
    "## Part 1: Customer Segmentation Report\n",
    "\n",
    "The main bulk of your analysis will come in this part of the project. Here, you should use unsupervised learning techniques to describe the relationship between the demographics of the company's existing customers and the general population of Germany. By the end of this part, you should be able to describe parts of the general population that are more likely to be part of the mail-order company's main customer base, and which parts of the general population are less so."
   ]
  },
  {
   "cell_type": "code",
   "execution_count": null,
   "metadata": {},
   "outputs": [],
   "source": [
    "X = imputed_df.set_index('LNR').astype(np.int8)\n",
    "X.info()"
   ]
  },
  {
   "cell_type": "code",
   "execution_count": null,
   "metadata": {},
   "outputs": [],
   "source": [
    "#X.to_csv('imputed_df.csv')"
   ]
  },
  {
   "cell_type": "code",
   "execution_count": null,
   "metadata": {},
   "outputs": [],
   "source": [
    "# Id after cleaning data\n",
    "others_id = np.intersect1d(others_id, imputed_df['LNR'].unique())\n",
    "customers_id = np.intersect1d(customers_id, imputed_df['LNR'].unique())"
   ]
  },
  {
   "cell_type": "code",
   "execution_count": null,
   "metadata": {},
   "outputs": [],
   "source": [
    "# K-means\n",
    "X_customers = X.loc[customers_id,:]\n",
    "X_others = X.loc[others_id,:]\n",
    "\n",
    "from sklearn.cluster import KMeans"
   ]
  },
  {
   "cell_type": "code",
   "execution_count": null,
   "metadata": {},
   "outputs": [],
   "source": [
    "# Choosing the best number of clusters\n",
    "\n",
    "wcss = []\n",
    "for k in range(2,15):\n",
    "    kmeans = KMeans(n_clusters=k, random_state=42, max_iter=500)\n",
    "    kmeans.fit(X)\n",
    "    wcss.append(kmeans.inertia_)\n",
    "    "
   ]
  },
  {
   "cell_type": "code",
   "execution_count": null,
   "metadata": {},
   "outputs": [],
   "source": [
    "plt.figure(figsize=(12,6))\n",
    "plt.grid()\n",
    "plt.plot(np.arange(2,15), wcss, linewidth=2, color='red', marker='8')\n",
    "plt.xlabel('K value')\n",
    "plt.xticks(range(2,15))\n",
    "plt.ylabel(\"Within-Cluster-Sum-of-Squares (WCSS)\");\n",
    "plt.savefig('wcss.png', format='png')\n"
   ]
  },
  {
   "cell_type": "code",
   "execution_count": null,
   "metadata": {},
   "outputs": [],
   "source": [
    "# Clustering\n",
    "kmeans = KMeans(n_clusters=5, random_state=42, max_iter=500)\n",
    "kmeans.fit(X)"
   ]
  },
  {
   "cell_type": "code",
   "execution_count": null,
   "metadata": {},
   "outputs": [],
   "source": [
    "# Assign cluster to each person\n",
    "y= kmeans.predict(X)\n",
    "X['cluster'] = y"
   ]
  },
  {
   "cell_type": "code",
   "execution_count": null,
   "metadata": {},
   "outputs": [],
   "source": [
    "# Assign cluster to each group\n",
    "y_customers = kmeans.predict(X_customers)\n",
    "X_customers['cluster'] = y_customers\n",
    "\n",
    "y_others = kmeans.predict(X_others)\n",
    "X_others['cluster'] = y_others"
   ]
  },
  {
   "cell_type": "code",
   "execution_count": null,
   "metadata": {},
   "outputs": [],
   "source": [
    "X_others['cluster'].value_counts() / X_others['cluster'].value_counts().sum()"
   ]
  },
  {
   "cell_type": "code",
   "execution_count": null,
   "metadata": {},
   "outputs": [],
   "source": [
    "X_customers['cluster'].value_counts() / X_customers['cluster'].value_counts().sum()"
   ]
  },
  {
   "cell_type": "code",
   "execution_count": null,
   "metadata": {},
   "outputs": [],
   "source": [
    "sns.countplot(data=X_customers, x='cluster', color=base_color[0]);\n"
   ]
  },
  {
   "cell_type": "markdown",
   "metadata": {},
   "source": [
    "- Há maior concentração de clientes nos clusters 4, 2 e 1"
   ]
  },
  {
   "cell_type": "code",
   "execution_count": null,
   "metadata": {},
   "outputs": [],
   "source": [
    "#from sklearn.metrics.cluster import silhouette_score\n",
    "\n",
    "#metric = silhouette_score(X, kmeans.predict(X))\n",
    "#metric"
   ]
  },
  {
   "cell_type": "code",
   "execution_count": null,
   "metadata": {},
   "outputs": [],
   "source": [
    "# OPTICS\n",
    "#from sklearn.cluster import OPTICS\n",
    "#eps = 75\n",
    "#min_samples = 2*X.shape[1]-2\n",
    "\n",
    "#optics = OPTICS(eps=eps, min_samples=min_samples)\n",
    "#clustering_labels = optics.fit_predict(X)\n",
    "#clustering_labels.unique()\n"
   ]
  },
  {
   "cell_type": "code",
   "execution_count": null,
   "metadata": {},
   "outputs": [],
   "source": [
    "#from sklearn.cluster import DBSCAN\n",
    "#from sklearn.neighbors import NearestNeighbors\n",
    "\n",
    "#neighbors = NearestNeighbors(n_neighbors=2*X.shape[1])\n",
    "#neighbors_fit = neighbors.fit(X)\n",
    "#distances, indices = neighbors_fit.kneighbors(X)\n",
    "\n",
    "#distances = np.sort(distances, axis=0)\n",
    "#distances = distances[:,1]\n",
    "#plt.plot(distances)"
   ]
  },
  {
   "cell_type": "code",
   "execution_count": null,
   "metadata": {},
   "outputs": [],
   "source": [
    "#plt.plot(distances)\n",
    "#plt.xlim(924000,925795)\n",
    "#plt.ylim(40,60)"
   ]
  },
  {
   "cell_type": "code",
   "execution_count": null,
   "metadata": {},
   "outputs": [],
   "source": [
    "# DBSCAN\n",
    "\n",
    "#eps = 50\n",
    "#min_samples = 2*X.shape[1]\n",
    "\n",
    "#dbscan = DBSCAN(eps=eps, min_samples=min_samples)\n",
    "#clustering_labels = dbscan.fit_predict(X)\n",
    "#clustering_labels.unique()\n"
   ]
  },
  {
   "cell_type": "markdown",
   "metadata": {},
   "source": [
    "## Part 2: Supervised Learning Model\n",
    "\n",
    "Now that you've found which parts of the population are more likely to be customers of the mail-order company, it's time to build a prediction model. Each of the rows in the \"MAILOUT\" data files represents an individual that was targeted for a mailout campaign. Ideally, we should be able to use the demographic information from each individual to decide whether or not it will be worth it to include that person in the campaign.\n",
    "\n",
    "The \"MAILOUT\" data has been split into two approximately equal parts, each with almost 43 000 data rows. In this part, you can verify your model with the \"TRAIN\" partition, which includes a column, \"RESPONSE\", that states whether or not a person became a customer of the company following the campaign. In the next part, you'll need to create predictions on the \"TEST\" partition, where the \"RESPONSE\" column has been withheld."
   ]
  },
  {
   "cell_type": "code",
   "execution_count": null,
   "metadata": {},
   "outputs": [],
   "source": [
    "mailout = pd.read_csv('data/Udacity_MAILOUT_052018_TRAIN.csv', sep=';', dtype={'CAMEO_DEUG_2015': str, 'CAMEO_INTL_2015':str})"
   ]
  },
  {
   "cell_type": "code",
   "execution_count": null,
   "metadata": {},
   "outputs": [],
   "source": [
    "# Prepare data\n",
    "X_new = mailout[['LNR'] + np.intersect1d(mailout.columns, X_customers.columns).tolist()]"
   ]
  },
  {
   "cell_type": "code",
   "execution_count": null,
   "metadata": {},
   "outputs": [],
   "source": [
    "# Clean data - Drop missing values\n",
    "#X_new = drop_na_columns(df=X_new, na_perct=0.7)\n",
    "X_new2 = drop_na_rows(df=X_new, na_perct=0.7)\n",
    "#X_new = drop_invariability(X_new, na_perct=0.9)\n",
    "\n",
    "X_new2.isnull().sum().sum()"
   ]
  },
  {
   "cell_type": "code",
   "execution_count": null,
   "metadata": {},
   "outputs": [],
   "source": [
    "X_clean = X_new2.copy()"
   ]
  },
  {
   "cell_type": "code",
   "execution_count": null,
   "metadata": {},
   "outputs": [],
   "source": [
    "#cols_missing = np.setdiff1d(X_customers.columns, X_new2.columns)"
   ]
  },
  {
   "cell_type": "code",
   "execution_count": null,
   "metadata": {},
   "outputs": [],
   "source": [
    "cols_missing = ['ALTERSKATEGORIE_FEIN', 'D19_GESAMT_ONLINE_QUOTE_12',\n",
    "               'D19_KONSUMTYP', 'D19_LOTTO','D19_SOZIALES', \n",
    "                'D19_VERSAND_ONLINE_QUOTE_12', 'EXTSEL992','KK_KUNDENTYP']"
   ]
  },
  {
   "cell_type": "code",
   "execution_count": null,
   "metadata": {},
   "outputs": [],
   "source": [
    "# Columns and dataframe with missing values\n",
    "for col in cols_missing:\n",
    "    X_clean[col+'was_missing'] = X_new2[col].isnull()\n",
    "    "
   ]
  },
  {
   "cell_type": "code",
   "execution_count": null,
   "metadata": {},
   "outputs": [],
   "source": [
    "X_clean.shape"
   ]
  },
  {
   "cell_type": "code",
   "execution_count": null,
   "metadata": {},
   "outputs": [],
   "source": [
    "X_clean['OST_WEST_KZ'] = pd.get_dummies(X_clean['OST_WEST_KZ'], prefix='OST_WEST_KZ', drop_first=True)"
   ]
  },
  {
   "cell_type": "code",
   "execution_count": null,
   "metadata": {},
   "outputs": [],
   "source": [
    "# Imputation\n",
    "\n",
    "my_imputer2 = SimpleImputer(missing_values=np.nan, strategy='most_frequent')\n",
    "imputed_X_clean = pd.DataFrame(my_imputer2.fit_transform(X_clean))\n",
    "imputed_X_clean.columns = X_clean.columns\n",
    "\n",
    "#imputed_X_clean = imputed_X_clean.astype(np.int8)\n",
    "\n",
    "imputed_X_clean.info()\n"
   ]
  },
  {
   "cell_type": "code",
   "execution_count": null,
   "metadata": {},
   "outputs": [],
   "source": [
    "imputed_X_clean.isnull().sum().sum()"
   ]
  },
  {
   "cell_type": "code",
   "execution_count": null,
   "metadata": {},
   "outputs": [],
   "source": [
    "X_end = imputed_X_clean.set_index(\"LNR\").astype(np.int8)"
   ]
  },
  {
   "cell_type": "code",
   "execution_count": null,
   "metadata": {},
   "outputs": [],
   "source": [
    "ids = np.intersect1d(X_end.index,mailout['LNR'].unique())"
   ]
  },
  {
   "cell_type": "code",
   "execution_count": null,
   "metadata": {},
   "outputs": [],
   "source": [
    "#X = drop_invariability(X, na_perct=0.9)\n",
    "y = mailout.set_index('LNR').loc[ids,'RESPONSE']\n",
    "X = X_end.loc[ids,:]"
   ]
  },
  {
   "cell_type": "code",
   "execution_count": null,
   "metadata": {},
   "outputs": [],
   "source": [
    "X['cluster'] = kmeans.predict(X)"
   ]
  },
  {
   "cell_type": "code",
   "execution_count": null,
   "metadata": {},
   "outputs": [],
   "source": [
    "X.head()"
   ]
  },
  {
   "cell_type": "code",
   "execution_count": null,
   "metadata": {},
   "outputs": [],
   "source": [
    "from sklearn.linear_model import LogisticRegression\n",
    "from sklearn.metrics import classification_report\n",
    "from sklearn.svm import SVC\n",
    "from sklearn.model_selection import train_test_split\n",
    "from sklearn.preprocessing import MinMaxScaler, StandardScaler\n",
    "from xgboost import XGBClassifier"
   ]
  },
  {
   "cell_type": "code",
   "execution_count": 177,
   "metadata": {},
   "outputs": [],
   "source": [
    "# Split samples\n",
    "X_train, X_test, y_train, y_test = train_test_split(X, y, test_size=0.2, random_state=42)\n"
   ]
  },
  {
   "cell_type": "code",
   "execution_count": 196,
   "metadata": {},
   "outputs": [
    {
     "data": {
      "text/plain": [
       "XGBClassifier(base_score=0.5, booster='gbtree', colsample_bylevel=1,\n",
       "              colsample_bynode=1, colsample_bytree=1, eval_metric='logloss',\n",
       "              gamma=0, gpu_id=-1, importance_type='gain',\n",
       "              interaction_constraints='', learning_rate=1.9, max_delta_step=0,\n",
       "              max_depth=1, min_child_weight=1, missing=nan,\n",
       "              monotone_constraints='()', n_estimators=300, n_jobs=4,\n",
       "              num_parallel_tree=1, random_state=0, reg_alpha=0, reg_lambda=1,\n",
       "              scale_pos_weight=1, subsample=1, tree_method='exact',\n",
       "              use_label_encoder=False, validate_parameters=1, verbosity=None)"
      ]
     },
     "execution_count": 196,
     "metadata": {},
     "output_type": "execute_result"
    }
   ],
   "source": [
    "xgb = XGBClassifier(n_estimators=300, learning_rate=1.9, max_depth=2, objective='binary:logistic', eval_metric='logloss', use_label_encoder=False)\n",
    "xgb.fit(X_train, y_train)"
   ]
  },
  {
   "cell_type": "code",
   "execution_count": 197,
   "metadata": {},
   "outputs": [
    {
     "name": "stdout",
     "output_type": "stream",
     "text": [
      "              precision    recall  f1-score   support\n",
      "\n",
      "     class 0       0.99      1.00      0.99     27660\n",
      "     class 1       0.46      0.05      0.09       340\n",
      "\n",
      "    accuracy                           0.99     28000\n",
      "   macro avg       0.72      0.52      0.54     28000\n",
      "weighted avg       0.98      0.99      0.98     28000\n",
      "\n"
     ]
    }
   ],
   "source": [
    "y_pred = xgb.predict(X_train)\n",
    "target_names = ['class 0', 'class 1']\n",
    "print(classification_report(y_train, y_pred, target_names=target_names))"
   ]
  },
  {
   "cell_type": "code",
   "execution_count": 198,
   "metadata": {},
   "outputs": [
    {
     "name": "stdout",
     "output_type": "stream",
     "text": [
      "              precision    recall  f1-score   support\n",
      "\n",
      "     class 0       0.99      1.00      0.99      6905\n",
      "     class 1       0.00      0.00      0.00        95\n",
      "\n",
      "    accuracy                           0.98      7000\n",
      "   macro avg       0.49      0.50      0.50      7000\n",
      "weighted avg       0.97      0.98      0.98      7000\n",
      "\n"
     ]
    }
   ],
   "source": [
    "y_pred = xgb.predict(X_test)\n",
    "print(classification_report(y_test, y_pred, target_names=target_names))"
   ]
  },
  {
   "cell_type": "code",
   "execution_count": 199,
   "metadata": {},
   "outputs": [],
   "source": [
    "# Preprocessing\n",
    "#scaler_train = StandardScaler().fit(X_train)\n",
    "scaler_train = MinMaxScaler().fit(X_train)\n",
    "X_train = scaler_train.transform(X_train)\n",
    "\n",
    "#scaler_test = StandardScaler().fit(X_test)\n",
    "scaler_test = MinMaxScaler().fit(X_test)\n",
    "X_test = scaler_train.transform(X_test)"
   ]
  },
  {
   "cell_type": "code",
   "execution_count": 200,
   "metadata": {},
   "outputs": [],
   "source": [
    "# SVM\n",
    "from sklearn.svm import LinearSVC, SVC\n",
    "svm = SVC(kernel='poly', class_weight='balanced', random_state=42, C=0.3).fit(X_train, y_train)"
   ]
  },
  {
   "cell_type": "code",
   "execution_count": 201,
   "metadata": {},
   "outputs": [
    {
     "name": "stdout",
     "output_type": "stream",
     "text": [
      "              precision    recall  f1-score   support\n",
      "\n",
      "     class 0       1.00      1.00      1.00     27660\n",
      "     class 1       0.91      1.00      0.95       340\n",
      "\n",
      "    accuracy                           1.00     28000\n",
      "   macro avg       0.95      1.00      0.98     28000\n",
      "weighted avg       1.00      1.00      1.00     28000\n",
      "\n",
      "              precision    recall  f1-score   support\n",
      "\n",
      "     class 0       0.99      1.00      0.99      6905\n",
      "     class 1       0.03      0.01      0.02        95\n",
      "\n",
      "    accuracy                           0.98      7000\n",
      "   macro avg       0.51      0.50      0.50      7000\n",
      "weighted avg       0.97      0.98      0.98      7000\n",
      "\n"
     ]
    }
   ],
   "source": [
    "y_pred = svm.predict(X_train)\n",
    "print(classification_report(y_train, y_pred, target_names=target_names))\n",
    "y_pred = svm.predict(X_test)\n",
    "print(classification_report(y_test, y_pred, target_names=target_names))"
   ]
  },
  {
   "cell_type": "markdown",
   "metadata": {},
   "source": [
    "## Part 3: Kaggle Competition\n",
    "\n",
    "Now that you've created a model to predict which individuals are most likely to respond to a mailout campaign, it's time to test that model in competition through Kaggle. If you click on the link [here](http://www.kaggle.com/t/21e6d45d4c574c7fa2d868f0e8c83140), you'll be taken to the competition page where, if you have a Kaggle account, you can enter. If you're one of the top performers, you may have the chance to be contacted by a hiring manager from Arvato or Bertelsmann for an interview!\n",
    "\n",
    "Your entry to the competition should be a CSV file with two columns. The first column should be a copy of \"LNR\", which acts as an ID number for each individual in the \"TEST\" partition. The second column, \"RESPONSE\", should be some measure of how likely each individual became a customer – this might not be a straightforward probability. As you should have found in Part 2, there is a large output class imbalance, where most individuals did not respond to the mailout. Thus, predicting individual classes and using accuracy does not seem to be an appropriate performance evaluation method. Instead, the competition will be using AUC to evaluate performance. The exact values of the \"RESPONSE\" column do not matter as much: only that the higher values try to capture as many of the actual customers as possible, early in the ROC curve sweep."
   ]
  },
  {
   "cell_type": "code",
   "execution_count": null,
   "metadata": {},
   "outputs": [],
   "source": []
  },
  {
   "cell_type": "code",
   "execution_count": 276,
   "metadata": {},
   "outputs": [],
   "source": [
    "mailout_test = pd.read_csv('data/Udacity_MAILOUT_052018_TEST.csv', sep=';', dtype={'CAMEO_DEUG_2015': str, 'CAMEO_INTL_2015':str})"
   ]
  },
  {
   "cell_type": "code",
   "execution_count": 277,
   "metadata": {},
   "outputs": [
    {
     "name": "stdout",
     "output_type": "stream",
     "text": [
      "<class 'pandas.core.frame.DataFrame'>\n",
      "RangeIndex: 42833 entries, 0 to 42832\n",
      "Columns: 366 entries, LNR to ALTERSKATEGORIE_GROB\n",
      "dtypes: float64(267), int64(93), object(6)\n",
      "memory usage: 119.6+ MB\n"
     ]
    }
   ],
   "source": [
    "mailout_test.info()"
   ]
  },
  {
   "cell_type": "code",
   "execution_count": 284,
   "metadata": {},
   "outputs": [
    {
     "data": {
      "text/plain": [
       "LNR                         0\n",
       "AGER_TYP                    0\n",
       "AKT_DAT_KL               6889\n",
       "ALTER_HH                 6889\n",
       "ALTER_KIND1             40820\n",
       "                        ...  \n",
       "WOHNDAUER_2008           6889\n",
       "WOHNLAGE                 7627\n",
       "ZABEOTYP                    0\n",
       "ANREDE_KZ                   0\n",
       "ALTERSKATEGORIE_GROB        0\n",
       "Length: 366, dtype: int64"
      ]
     },
     "execution_count": 284,
     "metadata": {},
     "output_type": "execute_result"
    }
   ],
   "source": [
    "mailout_test.isnull().sum()"
   ]
  },
  {
   "cell_type": "code",
   "execution_count": null,
   "metadata": {},
   "outputs": [],
   "source": []
  }
 ],
 "metadata": {
  "kernelspec": {
   "display_name": "Python 3",
   "language": "python",
   "name": "python3"
  },
  "language_info": {
   "codemirror_mode": {
    "name": "ipython",
    "version": 3
   },
   "file_extension": ".py",
   "mimetype": "text/x-python",
   "name": "python",
   "nbconvert_exporter": "python",
   "pygments_lexer": "ipython3",
   "version": "3.7.6"
  }
 },
 "nbformat": 4,
 "nbformat_minor": 2
}
